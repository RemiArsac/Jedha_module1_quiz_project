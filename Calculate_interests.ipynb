{
 "cells": [
  {
   "cell_type": "markdown",
   "metadata": {
    "colab_type": "text",
    "id": "1NCGks54kp_n"
   },
   "source": [
    "# How much do you get for your savings ?"
   ]
  },
  {
   "cell_type": "markdown",
   "metadata": {
    "colab_type": "text",
    "id": "75Xe4f7vksGZ"
   },
   "source": [
    "It is said that if Christopher Columbus had set aside €1 that he had left at 2% interest per year, today his heirs would no longer need to work to live their lives. Let's try to calculate the same thing for our savings. "
   ]
  },
  {
   "cell_type": "markdown",
   "metadata": {
    "colab_type": "text",
    "id": "v4ugjwIakv2c"
   },
   "source": [
    "1. So let's create a function that will allow us to know how much money a user will have in total after a certain number of years.\n",
    "\n",
    "2. The user should be able to call the function which will then ask for :\n",
    "\n",
    "    1. The total amount he wishes to place\n",
    "    2. The number of years he wants to invest his money for\n",
    "    3. The rate of interest to which he is entitled\n",
    "    \n",
    "3. Pay attention to the errors that the user may enter.\n",
    "\n",
    "    4. If he enters a string of characters rather than a number, an error should be displayed.\n",
    "    5. If the user enters negative numbers, an error should also be output.\n",
    "    6. Finally, it is very likely that the user will write the interest rate as a percentage (e.g. 10%). Raise an error if this is the case, to prevent him from inputting a percentage.\n",
    "    \n",
    "4. Finally, the program should only show one number with a maximum of two digits after the decimal point.\n"
   ]
  },
  {
   "cell_type": "code",
   "execution_count": 1,
   "metadata": {
    "colab": {
     "base_uri": "https://localhost:8080/",
     "height": 173
    },
    "colab_type": "code",
    "id": "ovkcocqXkp2k",
    "outputId": "c6b46d9b-3503-4490-f19a-4a7e35194eea"
   },
   "outputs": [],
   "source": [
    "def compute_capital(amount_to_place, number_of_years, rate_interest):\n",
    "    capital_foreseen = amount_to_place*(1+rate_interest/100)**number_of_years\n",
    "    \n",
    "    return capital_foreseen"
   ]
  },
  {
   "cell_type": "code",
   "execution_count": 2,
   "metadata": {},
   "outputs": [],
   "source": [
    "def get_amount_to_place():\n",
    "    \n",
    "    amount_to_place = float(input('How much money would you like to place in € ?'))\n",
    "    if amount_to_place < 0:\n",
    "        raise ValueError(\"You should enter a positive number in €\")\n",
    "    \n",
    "    return amount_to_place"
   ]
  },
  {
   "cell_type": "code",
   "execution_count": 3,
   "metadata": {},
   "outputs": [],
   "source": [
    "def get_number_of_years():\n",
    "    number_of_years = int(input('How many years do you want to invest your money for ?'))\n",
    "    if number_of_years <= 0:\n",
    "        raise ValueError(\"You should enter a positive number of years\")\n",
    "    \n",
    "    return number_of_years"
   ]
  },
  {
   "cell_type": "code",
   "execution_count": 4,
   "metadata": {},
   "outputs": [],
   "source": [
    "def get_rate_interest():\n",
    "    \n",
    "    rate_interest = float(input('Which rate of interest can you get in percentage ?'))\n",
    "    if rate_interest < 0:\n",
    "        raise ValueError(\"You should enter a positive percentage (without the % sign)\")\n",
    "    \n",
    "    return rate_interest"
   ]
  },
  {
   "cell_type": "code",
   "execution_count": 11,
   "metadata": {},
   "outputs": [
    {
     "name": "stdin",
     "output_type": "stream",
     "text": [
      "How much money would you like to place in € ? mille\n"
     ]
    },
    {
     "name": "stdout",
     "output_type": "stream",
     "text": [
      "\t could not convert string to float: 'mille' \n",
      "\t\t-> You should enter a positive number in €\n"
     ]
    },
    {
     "name": "stdin",
     "output_type": "stream",
     "text": [
      "How much money would you like to place in € ? -1000\n"
     ]
    },
    {
     "name": "stdout",
     "output_type": "stream",
     "text": [
      "\t You should enter a positive number in € \n",
      "\t\t-> You should enter a positive number in €\n"
     ]
    },
    {
     "name": "stdin",
     "output_type": "stream",
     "text": [
      "How much money would you like to place in € ? 1000\n"
     ]
    },
    {
     "name": "stdout",
     "output_type": "stream",
     "text": [
      "Amount to place = 1000.0 €\n",
      "\n"
     ]
    },
    {
     "name": "stdin",
     "output_type": "stream",
     "text": [
      "How many years do you want to invest your money for ? dix ans\n"
     ]
    },
    {
     "name": "stdout",
     "output_type": "stream",
     "text": [
      "\t invalid literal for int() with base 10: 'dix ans' \n",
      "\t\t-> You should enter a positive number of years\n"
     ]
    },
    {
     "name": "stdin",
     "output_type": "stream",
     "text": [
      "How many years do you want to invest your money for ? -10\n"
     ]
    },
    {
     "name": "stdout",
     "output_type": "stream",
     "text": [
      "\t You should enter a positive number of years \n",
      "\t\t-> You should enter a positive number of years\n"
     ]
    },
    {
     "name": "stdin",
     "output_type": "stream",
     "text": [
      "How many years do you want to invest your money for ? 10\n"
     ]
    },
    {
     "name": "stdout",
     "output_type": "stream",
     "text": [
      "Number of years = 10\n",
      "\n"
     ]
    },
    {
     "name": "stdin",
     "output_type": "stream",
     "text": [
      "Which rate of interest can you get in percentage ? dix\n"
     ]
    },
    {
     "name": "stdout",
     "output_type": "stream",
     "text": [
      "\t could not convert string to float: 'dix' \n",
      "\t\t-> You should enter a positive percentage (without the % sign)\n"
     ]
    },
    {
     "name": "stdin",
     "output_type": "stream",
     "text": [
      "Which rate of interest can you get in percentage ? 10%\n"
     ]
    },
    {
     "name": "stdout",
     "output_type": "stream",
     "text": [
      "\t could not convert string to float: '10%' \n",
      "\t\t-> You should enter a positive percentage (without the % sign)\n"
     ]
    },
    {
     "name": "stdin",
     "output_type": "stream",
     "text": [
      "Which rate of interest can you get in percentage ? 10\n"
     ]
    },
    {
     "name": "stdout",
     "output_type": "stream",
     "text": [
      "Rate of interest = 10.0 %\n",
      "\n",
      "The total amount of money you will have after you deposit 1000.00€ at the end of 10 years at 10.00% of interest will be 2593.74 €\n"
     ]
    }
   ],
   "source": [
    "amount_to_place = 0\n",
    "number_of_years = 0.0\n",
    "rate_interest = 0\n",
    "\n",
    "while (type(amount_to_place)!=float) and (not amount_to_place>0):\n",
    "    try:\n",
    "        amount_to_place = get_amount_to_place()\n",
    "    except ValueError as ve:\n",
    "        print(\"\\t\", ve, \"\\n\\t\\t-> You should enter a positive number in €\")\n",
    "\n",
    "print(f'Amount to place = {amount_to_place} €\\n')\n",
    "\n",
    "while (type(number_of_years)!=int) and (not number_of_years>0):\n",
    "    try:\n",
    "        number_of_years = get_number_of_years()\n",
    "    except ValueError as ve:\n",
    "        print(\"\\t\", ve, \"\\n\\t\\t-> You should enter a positive number of years\")\n",
    "\n",
    "print(f'Number of years = {number_of_years}\\n')\n",
    "\n",
    "while (type(rate_interest)!=float) and (not rate_interest>0):\n",
    "    try:\n",
    "        rate_interest = get_rate_interest()\n",
    "    except ValueError as ve:\n",
    "        print(\"\\t\", ve, \"\\n\\t\\t-> You should enter a positive percentage (without the % sign)\")\n",
    "\n",
    "print(f'Rate of interest = {rate_interest} %\\n')\n",
    "\n",
    "capital_foreseen = compute_capital(amount_to_place, number_of_years, rate_interest)\n",
    "print(f'The total amount of money you will have after you deposit {amount_to_place:.2f}€ at the end of {number_of_years} years at {rate_interest:.2f}% of interest will be {capital_foreseen:.2f} €')"
   ]
  },
  {
   "cell_type": "code",
   "execution_count": 5,
   "metadata": {
    "colab": {},
    "colab_type": "code",
    "id": "K_2poSknltX4",
    "tags": []
   },
   "outputs": [
    {
     "name": "stdout",
     "output_type": "stream",
     "text": [
      "1000.0\n",
      "10.0\n",
      "0.1\n",
      "The total amount of money you will have after you deposit 1000.00 at the end of 10.0 years will be 2593.74 €\n"
     ]
    }
   ],
   "source": []
  }
 ],
 "metadata": {
  "colab": {
   "name": "Fondamentaux Python - Mini Projets S1-2B.ipynb",
   "provenance": [],
   "version": "0.3.2"
  },
  "kernelspec": {
   "display_name": "Python 3",
   "language": "python",
   "name": "python3"
  },
  "language_info": {
   "codemirror_mode": {
    "name": "ipython",
    "version": 3
   },
   "file_extension": ".py",
   "mimetype": "text/x-python",
   "name": "python",
   "nbconvert_exporter": "python",
   "pygments_lexer": "ipython3",
   "version": "3.8.6"
  }
 },
 "nbformat": 4,
 "nbformat_minor": 4
}
