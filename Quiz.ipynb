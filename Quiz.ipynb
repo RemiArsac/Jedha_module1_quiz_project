{
 "cells": [
  {
   "cell_type": "markdown",
   "metadata": {},
   "source": [
    "# Build a quiz - Part 2"
   ]
  },
  {
   "cell_type": "markdown",
   "metadata": {},
   "source": [
    "Below is the code we wrote yesterday, that asks three questions to the user and allows up to 3 wrong answers :"
   ]
  },
  {
   "cell_type": "code",
   "execution_count": 19,
   "metadata": {},
   "outputs": [],
   "source": [
    "def quiz(question, answer, number_of_remaining_chances):\n",
    "    if number_of_remaining_chances>0:\n",
    "        user_answer = input(question)\n",
    "        user_answer = user_answer.title()\n",
    "        \n",
    "        while (user_answer not in answer)&(number_of_remaining_chances>0):\n",
    "            number_of_remaining_chances = number_of_remaining_chances - 1\n",
    "            user_answer = input(f\"\\tMauvaise réponse ... essaye encore ({number_of_remaining_chances} vie(s) restantes) ...\")\n",
    "            user_answer = user_answer.title()\n",
    "\n",
    "        if (user_answer in answer):\n",
    "            print(\"Bien joué, c'est la bonne réponse !\\n\")\n",
    "        elif number_of_remaining_chances == 0:\n",
    "            raise Exception(\"Trop de tentatives, tu as perdu !!\\n\")\n",
    "        \n",
    "    return number_of_remaining_chances"
   ]
  },
  {
   "cell_type": "code",
   "execution_count": 26,
   "metadata": {},
   "outputs": [
    {
     "name": "stdout",
     "output_type": "stream",
     "text": [
      "Jeu de connaissances !!\n",
      "3 questions auxquelles répondre et autant de vies avant de perdre ... Bonne chance !!\n",
      "\n"
     ]
    },
    {
     "name": "stdin",
     "output_type": "stream",
     "text": [
      "Combien de fois la France a gagné la coupe du monde ? 2\n"
     ]
    },
    {
     "name": "stdout",
     "output_type": "stream",
     "text": [
      "Bien joué, c'est la bonne réponse !\n",
      "\n"
     ]
    },
    {
     "name": "stdin",
     "output_type": "stream",
     "text": [
      "Quand a été fondé Apple ? 1976\n"
     ]
    },
    {
     "name": "stdout",
     "output_type": "stream",
     "text": [
      "Bien joué, c'est la bonne réponse !\n",
      "\n"
     ]
    },
    {
     "name": "stdin",
     "output_type": "stream",
     "text": [
      "Qui a fondé SpaceX ? bla\n",
      "Mauvaise réponse ... essaye encore (2 vie(s) restantes) ... elon musk\n"
     ]
    },
    {
     "name": "stdout",
     "output_type": "stream",
     "text": [
      "Bien joué, c'est la bonne réponse !\n",
      "\n",
      "\n",
      "Bien joué, tu as gagné et tu as consommé 1 vie(s) sur 3!!\n"
     ]
    }
   ],
   "source": [
    "number_of_remaining_chances = 3\n",
    "initial_number_of_remaining_chances = number_of_remaining_chances\n",
    "\n",
    "list_of_Q_and_A = [(\"Combien de fois la France a gagné la coupe du monde ?\", [\"2\", \"Deux\"]), \n",
    "                   (\"Quand a été fondé Apple ?\", [\"1976\"]), \n",
    "                   (\"Qui a fondé SpaceX ?\", [\"Elon Musk\"])]\n",
    "\n",
    "print(\"Jeu de connaissances !!\")\n",
    "print(f\"{len(list_of_Q_and_A)} questions auxquelles répondre et autant de vies avant de perdre ... Bonne chance !!\\n\")\n",
    "\n",
    "try:\n",
    "    for i in range(len(list_of_Q_and_A)):\n",
    "        number_of_remaining_chances = quiz(list_of_Q_and_A[i][0], list_of_Q_and_A[i][1], number_of_remaining_chances)\n",
    "\n",
    "    print(f'\\nBien joué, tu as gagné et tu as consommé {initial_number_of_remaining_chances-number_of_remaining_chances} vie(s) sur {initial_number_of_remaining_chances}!!')\n",
    "\n",
    "except Exception as e:\n",
    "    print(\"\\nDommage ...\", e)"
   ]
  },
  {
   "cell_type": "code",
   "execution_count": null,
   "metadata": {},
   "outputs": [],
   "source": []
  },
  {
   "cell_type": "raw",
   "metadata": {},
   "source": []
  },
  {
   "cell_type": "code",
   "execution_count": null,
   "metadata": {},
   "outputs": [],
   "source": []
  },
  {
   "cell_type": "code",
   "execution_count": null,
   "metadata": {},
   "outputs": [],
   "source": []
  },
  {
   "cell_type": "code",
   "execution_count": null,
   "metadata": {},
   "outputs": [],
   "source": []
  },
  {
   "cell_type": "code",
   "execution_count": null,
   "metadata": {},
   "outputs": [],
   "source": []
  },
  {
   "cell_type": "code",
   "execution_count": null,
   "metadata": {},
   "outputs": [],
   "source": []
  },
  {
   "cell_type": "code",
   "execution_count": null,
   "metadata": {},
   "outputs": [],
   "source": []
  },
  {
   "cell_type": "code",
   "execution_count": null,
   "metadata": {},
   "outputs": [],
   "source": [
    "nb_de_chances = 3\n",
    "\n",
    "print(\"Voici notre quiz, tu as trois chances !\")\n",
    "\n",
    "if nb_de_chances > 0:\n",
    "    question1= input(\"Combien de fois la France a gagné la coupe du monde ? \")\n",
    "    while question1 != \"2\":\n",
    "        nb_de_chances -= 1\n",
    "        print(\"Dommage ! Il te reste {} chances\".format(nb_de_chances))\n",
    "        if nb_de_chances == 0:\n",
    "            print(\"Oh non ! Tu as perdu le jeu...\")\n",
    "            break\n",
    "        question1 = input(\"Combien de fois la France a gagné la coupe du monde ? \")\n",
    "\n",
    "if nb_de_chances > 0:\n",
    "    question2 = input(\"Quand a été fondé Apple ? \")\n",
    "    while question2 != \"1976\":\n",
    "        nb_de_chances -=1\n",
    "        print(\"Dommage ! Il te reste {} chances\".format(nb_de_chances))\n",
    "        if nb_de_chances == 0:\n",
    "            print(\"Oh non ! Tu as perdu le jeu...\")\n",
    "            break\n",
    "        question2 = input(\"Quand a été fondé Apple ? \")\n",
    "\n",
    "\n",
    "if nb_de_chances > 0:\n",
    "    question3 = input(\"Qui a fondé SpaceX ? \")\n",
    "    question3 = question3.lower()\n",
    "    while question3 != \"elon musk\":\n",
    "        nb_de_chances -=1\n",
    "        print(\"Dommage ! Il te reste {} chances\".format(nb_de_chances))\n",
    "        if nb_de_chances == 0:\n",
    "            print(\"Oh non ! Tu as perdu le jeu...\")\n",
    "            break\n",
    "        question3 = input(\"Qui a fondé SpaceX ? \")\n",
    "        question3 = question3.lower()\n",
    "\n",
    "if nb_de_chances > 0:\n",
    "    print(\"Bravo ! Tu as gagné le quiz !\")\n"
   ]
  },
  {
   "cell_type": "markdown",
   "metadata": {},
   "source": [
    "Let's refactor our quiz now that we know how to be dry.\n",
    "\n",
    "SPECs: \n",
    "\n",
    "* Your code should be DRY \n",
    "* You should use functions "
   ]
  }
 ],
 "metadata": {
  "kernelspec": {
   "display_name": "Python 3",
   "language": "python",
   "name": "python3"
  },
  "language_info": {
   "codemirror_mode": {
    "name": "ipython",
    "version": 3
   },
   "file_extension": ".py",
   "mimetype": "text/x-python",
   "name": "python",
   "nbconvert_exporter": "python",
   "pygments_lexer": "ipython3",
   "version": "3.8.6"
  }
 },
 "nbformat": 4,
 "nbformat_minor": 4
}
